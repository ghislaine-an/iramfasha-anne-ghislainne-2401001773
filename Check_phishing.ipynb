{
  "nbformat": 4,
  "nbformat_minor": 0,
  "metadata": {
    "colab": {
      "provenance": [],
      "authorship_tag": "ABX9TyO8BnRG6ZwKpMVhHMNvH/0w",
      "include_colab_link": true
    },
    "kernelspec": {
      "name": "python3",
      "display_name": "Python 3"
    },
    "language_info": {
      "name": "python"
    }
  },
  "cells": [
    {
      "cell_type": "markdown",
      "metadata": {
        "id": "view-in-github",
        "colab_type": "text"
      },
      "source": [
        "<a href=\"https://colab.research.google.com/github/ghislaine-an/iramfasha-anne-ghislainne-2401001773/blob/main/Check_phishing.ipynb\" target=\"_parent\"><img src=\"https://colab.research.google.com/assets/colab-badge.svg\" alt=\"Open In Colab\"/></a>"
      ]
    },
    {
      "cell_type": "code",
      "execution_count": 16,
      "metadata": {
        "colab": {
          "base_uri": "https://localhost:8080/"
        },
        "id": "tfE0-eDGcuFD",
        "outputId": "91afc421-2a90-483b-b2f4-dd9373189064"
      },
      "outputs": [
        {
          "output_type": "stream",
          "name": "stdout",
          "text": [
            "Phishing detection complete. ✅\n"
          ]
        }
      ],
      "source": [
        "import pandas as pd\n",
        "\n",
        "\n",
        "# Define phishing keywords\n",
        "phishing_keywords = [\"urgent\", \"password reset\", \"bank\", \"verify\", \"account suspended\"]\n",
        "#These are words commonly found in phishing emails.\n",
        "#The script will check if an email contains any of these words.\n",
        "\n",
        "# Load the dataset (uploaded file)\n",
        "emails = pd.read_csv(\"/content/2401001773 - 2401001773.csv\")\n",
        "\n",
        "# Check if the 'content' column exists\n",
        "if 'Content' in emails.columns:\n",
        "# Apply phishing detection\n",
        "      emails[\"is_phishing\"] = emails[\"Content\"].apply(\n",
        "        lambda x: any(keyword in str(x).lower() for keyword in phishing_keywords)\n",
        "      )\n",
        "\n",
        "\n",
        "      emails.to_csv(\"/content/analyzed_emails.csv\", index=False)\n",
        "      print(\"Phishing detection complete. ✅\")\n",
        "else:\n",
        "  print(\"Error: The 'content' column is missing from the dataset.\")"
      ]
    }
  ]
}